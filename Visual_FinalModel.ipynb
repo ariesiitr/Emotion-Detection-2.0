{
  "cells": [
    {
      "cell_type": "markdown",
      "metadata": {
        "id": "e6c408e4"
      },
      "source": [
        "# Facial Expression Recognition (Emotion Detection)"
      ]
    },
    {
      "cell_type": "code",
      "execution_count": 2,
      "metadata": {
        "colab": {
          "base_uri": "https://localhost:8080/"
        },
        "id": "0tdA-lCAY84k",
        "outputId": "80c6a40c-41c3-4c65-d47b-3dc13d1f4fb9"
      },
      "outputs": [
        {
          "output_type": "stream",
          "name": "stdout",
          "text": [
            "Mounted at /content/drive\n"
          ]
        }
      ],
      "source": [
        "from google.colab import drive\n",
        "drive.mount('/content/drive')"
      ]
    },
    {
      "cell_type": "code",
      "execution_count": 3,
      "metadata": {
        "id": "9f05807d"
      },
      "outputs": [],
      "source": [
        "import os\n",
        "import matplotlib.pyplot as plt\n",
        "import tensorflow as tf\n",
        "from PIL import Image\n",
        "from tensorflow.keras.preprocessing.image import ImageDataGenerator \n",
        "from tensorflow.keras.utils import to_categorical, plot_model\n",
        "from tensorflow.keras import models, layers, regularizers\n",
        "import cv2\n",
        "import numpy as np\n",
        "from sklearn.metrics import accuracy_score\n",
        "from collections import Counter"
      ]
    },
    {
      "cell_type": "code",
      "execution_count": 4,
      "metadata": {
        "id": "1008b717"
      },
      "outputs": [],
      "source": [
        "train_path = '/content/drive/MyDrive/fer/train'\n",
        "val_path = '/content/drive/MyDrive/fer/train'\n",
        "test_path='/content/drive/MyDrive/fer/test'"
      ]
    },
    {
      "cell_type": "markdown",
      "metadata": {
        "id": "0e8cd44b"
      },
      "source": [
        "## Data Generator"
      ]
    },
    {
      "cell_type": "code",
      "execution_count": 5,
      "metadata": {
        "colab": {
          "base_uri": "https://localhost:8080/"
        },
        "id": "f73fcf6b",
        "outputId": "e320b3db-567b-4d54-9890-aff6a1ae25d6"
      },
      "outputs": [
        {
          "output_type": "stream",
          "name": "stdout",
          "text": [
            "Found 22968 images belonging to 7 classes.\n",
            "Found 5741 images belonging to 7 classes.\n",
            "Found 7178 images belonging to 7 classes.\n"
          ]
        }
      ],
      "source": [
        "batch_size = 32\n",
        "target_size = (124,124)\n",
        "\n",
        "train_datagen = ImageDataGenerator(rescale=1./255.0,\n",
        "                                   validation_split=0.2,\n",
        "                                   zoom_range=[0.8,1.5],\n",
        "                                  horizontal_flip=True,\n",
        "                                   shear_range=10,\n",
        "                                   brightness_range=[0.2,2.0],\n",
        "                                   rotation_range=45\n",
        "                                  )\n",
        "valid_datagen = ImageDataGenerator(rescale = 1./255,\n",
        "                                  validation_split = 0.2)\n",
        "test_datagen = ImageDataGenerator(rescale = 1./255)\n",
        "\n",
        "train_generator = train_datagen.flow_from_directory(\n",
        "        train_path,\n",
        "        target_size=target_size,\n",
        "        subset = 'training',\n",
        "        batch_size=batch_size,\n",
        "        class_mode='categorical',\n",
        "        shuffle=True)\n",
        "\n",
        "val_generator = valid_datagen.flow_from_directory(\n",
        "        val_path,\n",
        "        target_size=target_size,\n",
        "        subset = 'validation',\n",
        "        batch_size=batch_size,\n",
        "        class_mode='categorical',\n",
        "        shuffle=True)\n",
        "\n",
        "test_generator = test_datagen.flow_from_directory(\n",
        "        test_path,\n",
        "        target_size=target_size,\n",
        "        batch_size=batch_size,\n",
        "        class_mode='categorical',\n",
        "        shuffle=True)\n"
      ]
    },
    {
      "cell_type": "markdown",
      "metadata": {
        "id": "a1c2f9a2"
      },
      "source": [
        "## Build Model"
      ]
    },
    {
      "cell_type": "code",
      "execution_count": null,
      "metadata": {
        "id": "f7d4ee42"
      },
      "outputs": [],
      "source": [
        "input_shape = (128,128,3) # img_rows, img_colums, color_channels\n",
        "num_classes = 7"
      ]
    },
    {
      "cell_type": "code",
      "execution_count": null,
      "metadata": {
        "colab": {
          "base_uri": "https://localhost:8080/"
        },
        "id": "VCatNEEzY4eh",
        "outputId": "4cd28a42-4bb1-4c7d-e07b-4f73205f68ae"
      },
      "outputs": [
        {
          "name": "stdout",
          "output_type": "stream",
          "text": [
            "Model: \"sequential\"\n",
            "_________________________________________________________________\n",
            " Layer (type)                Output Shape              Param #   \n",
            "=================================================================\n",
            " inception_resnet_v2 (Functi  (None, 2, 2, 1536)       54336736  \n",
            " onal)                                                           \n",
            "                                                                 \n",
            " flatten (Flatten)           (None, 6144)              0         \n",
            "                                                                 \n",
            " dense (Dense)               (None, 1024)              6292480   \n",
            "                                                                 \n",
            " dropout (Dropout)           (None, 1024)              0         \n",
            "                                                                 \n",
            " dense_1 (Dense)             (None, 512)               524800    \n",
            "                                                                 \n",
            " dropout_1 (Dropout)         (None, 512)               0         \n",
            "                                                                 \n",
            " dense_2 (Dense)             (None, 256)               131328    \n",
            "                                                                 \n",
            " dropout_2 (Dropout)         (None, 256)               0         \n",
            "                                                                 \n",
            " dense_3 (Dense)             (None, 128)               32896     \n",
            "                                                                 \n",
            " dropout_3 (Dropout)         (None, 128)               0         \n",
            "                                                                 \n",
            " dense_4 (Dense)             (None, 7)                 903       \n",
            "                                                                 \n",
            "=================================================================\n",
            "Total params: 61,319,143\n",
            "Trainable params: 61,258,599\n",
            "Non-trainable params: 60,544\n",
            "_________________________________________________________________\n"
          ]
        }
      ],
      "source": [
        "import tensorflow as tf\n",
        "InceptionResNetV2=tf.keras.applications.InceptionResNetV2(weights='imagenet',input_shape=input_shape, include_top=False)\n",
        "model = models.Sequential()\n",
        "# load the model\n",
        "model.add(InceptionResNetV2)\n",
        "\n",
        "model.add(layers.Flatten())\n",
        "model.add(layers.Dense(1024, activation='relu'))\n",
        "model.add(layers.Dropout(0.75))\n",
        "model.add(layers.Dense(512, activation='relu'))\n",
        "model.add(layers.Dropout(0.50))\n",
        "model.add(layers.Dense(256, activation='relu'))\n",
        "model.add(layers.Dropout(0.25))\n",
        "model.add(layers.Dense(128,activation='relu'))\n",
        "model.add(layers.Dropout(0.25))\n",
        "model.add(layers.Dense(num_classes, activation='softmax'))\n",
        "model.summary()"
      ]
    },
    {
      "cell_type": "code",
      "execution_count": null,
      "metadata": {
        "id": "6036086e"
      },
      "outputs": [],
      "source": [
        "# # Build Model\n",
        "# model = models.Sequential()\n",
        "\n",
        "# model.add(layers.Conv2D(64, kernel_size=(3, 3), activation='relu', input_shape=input_shape, data_format='channels_last'))\n",
        "# model.add(layers.BatchNormalization())\n",
        "# model.add(layers.Conv2D(64, kernel_size=(3, 3), activation='relu', padding='same'))\n",
        "# model.add(layers.BatchNormalization())\n",
        "# model.add(layers.MaxPooling2D(pool_size=(2, 2), strides=(2, 2)))\n",
        "# model.add(layers.Dropout(0.25))\n",
        "\n",
        "# model.add(layers.Conv2D(128, kernel_size=(3, 3), activation='relu', padding='same'))\n",
        "# model.add(layers.BatchNormalization())\n",
        "# model.add(layers.Conv2D(128, kernel_size=(3, 3), activation='relu', padding='same'))\n",
        "# model.add(layers.BatchNormalization())\n",
        "# model.add(layers.MaxPooling2D(pool_size=(2, 2), strides=(2, 2)))\n",
        "# model.add(layers.Dropout(0.25))\n",
        "\n",
        "# model.add(layers.Conv2D(256, kernel_size=(3, 3), activation='relu', padding='same'))\n",
        "# model.add(layers.BatchNormalization())\n",
        "# model.add(layers.Conv2D(256, kernel_size=(3, 3), activation='relu', padding='same'))\n",
        "# model.add(layers.BatchNormalization())\n",
        "# model.add(layers.MaxPooling2D(pool_size=(2, 2), strides=(2, 2)))\n",
        "# model.add(layers.Dropout(0.25))\n",
        "\n",
        "# model.add(layers.Conv2D(512, kernel_size=(3, 3), activation='relu', padding='same'))\n",
        "# model.add(layers.BatchNormalization())\n",
        "# model.add(layers.Conv2D(512, kernel_size=(3, 3), activation='relu', padding='same'))\n",
        "# model.add(layers.BatchNormalization())\n",
        "# model.add(layers.MaxPooling2D(pool_size=(2, 2), strides=(2, 2)))\n",
        "# model.add(layers.Dropout(0.25))\n",
        "\n",
        "# model.add(layers.Flatten())\n",
        "\n",
        "# model.add(layers.Dense(1024, activation='relu'))\n",
        "# model.add(layers.Dropout(0.5))\n",
        "# model.add(layers.Dense(num_classes, activation='softmax'))\n",
        "\n",
        "# model.summary()"
      ]
    },
    {
      "cell_type": "code",
      "execution_count": null,
      "metadata": {
        "id": "e405cb04"
      },
      "outputs": [],
      "source": [
        "# Compile Model\n",
        "plot_model(model, to_file='model_1.png', show_shapes=True, show_layer_names=True)\n",
        "model.compile(loss='categorical_crossentropy', optimizer=tf.keras.optimizers.Adam( learning_rate=0.0001), metrics=['accuracy'],) "
      ]
    },
    {
      "cell_type": "markdown",
      "metadata": {
        "id": "Fe5zF_T-Y4ej"
      },
      "source": [
        "# **Train Model**"
      ]
    },
    {
      "cell_type": "code",
      "execution_count": null,
      "metadata": {
        "colab": {
          "background_save": true,
          "base_uri": "https://localhost:8080/"
        },
        "id": "TTTviNTbY4ej",
        "outputId": "f303c8c0-45c4-4d58-fec9-f27f0481809a"
      },
      "outputs": [
        {
          "name": "stdout",
          "output_type": "stream",
          "text": [
            "WARNING:tensorflow:`period` argument is deprecated. Please use `save_freq` to specify the frequency in number of batches seen.\n",
            "Epoch 1/100\n",
            "845/845 [==============================] - 6705s 8s/step - loss: 1.9066 - accuracy: 0.2184 - val_loss: 1.7151 - val_accuracy: 0.3165 - lr: 1.0000e-04\n",
            "Epoch 2/100\n",
            "845/845 [==============================] - 210s 249ms/step - loss: 1.6570 - accuracy: 0.3270 - val_loss: 1.3965 - val_accuracy: 0.4781 - lr: 1.0000e-04\n",
            "Epoch 3/100\n",
            "845/845 [==============================] - 210s 248ms/step - loss: 1.4738 - accuracy: 0.4162 - val_loss: 1.2828 - val_accuracy: 0.5093 - lr: 1.0000e-04\n",
            "Epoch 4/100\n",
            "845/845 [==============================] - 208s 247ms/step - loss: 1.3927 - accuracy: 0.4665 - val_loss: 1.2062 - val_accuracy: 0.5226 - lr: 1.0000e-04\n",
            "Epoch 5/100\n",
            "845/845 [==============================] - ETA: 0s - loss: 1.3246 - accuracy: 0.5010\n",
            "Epoch 5: val_loss improved from inf to 1.14213, saving model to ./checkpoints\n",
            "845/845 [==============================] - 213s 252ms/step - loss: 1.3246 - accuracy: 0.5010 - val_loss: 1.1421 - val_accuracy: 0.5635 - lr: 1.0000e-04\n",
            "Epoch 6/100\n",
            "845/845 [==============================] - 208s 246ms/step - loss: 1.2644 - accuracy: 0.5286 - val_loss: 1.1736 - val_accuracy: 0.5559 - lr: 1.0000e-04\n",
            "Epoch 7/100\n",
            "845/845 [==============================] - 208s 247ms/step - loss: 1.2252 - accuracy: 0.5505 - val_loss: 1.1029 - val_accuracy: 0.5748 - lr: 1.0000e-04\n",
            "Epoch 8/100\n",
            "845/845 [==============================] - 210s 248ms/step - loss: 1.1828 - accuracy: 0.5669 - val_loss: 1.2513 - val_accuracy: 0.5769 - lr: 1.0000e-04\n",
            "Epoch 9/100\n",
            "845/845 [==============================] - 210s 248ms/step - loss: 1.1791 - accuracy: 0.5747 - val_loss: 1.0770 - val_accuracy: 0.6037 - lr: 1.0000e-04\n",
            "Epoch 10/100\n",
            "845/845 [==============================] - ETA: 0s - loss: 1.1561 - accuracy: 0.5814\n",
            "Epoch 10: val_loss improved from 1.14213 to 1.03605, saving model to ./checkpoints\n",
            "845/845 [==============================] - 213s 252ms/step - loss: 1.1561 - accuracy: 0.5814 - val_loss: 1.0361 - val_accuracy: 0.6311 - lr: 1.0000e-04\n",
            "Epoch 11/100\n",
            "845/845 [==============================] - 210s 248ms/step - loss: 1.1652 - accuracy: 0.5700 - val_loss: 1.0697 - val_accuracy: 0.6144 - lr: 1.0000e-04\n",
            "Epoch 12/100\n",
            "845/845 [==============================] - 209s 247ms/step - loss: 1.1141 - accuracy: 0.5960 - val_loss: 1.0145 - val_accuracy: 0.6291 - lr: 1.0000e-04\n",
            "Epoch 13/100\n",
            "845/845 [==============================] - 208s 247ms/step - loss: 1.0860 - accuracy: 0.6087 - val_loss: 0.9956 - val_accuracy: 0.6321 - lr: 1.0000e-04\n",
            "Epoch 14/100\n",
            "845/845 [==============================] - 208s 246ms/step - loss: 1.0888 - accuracy: 0.6045 - val_loss: 1.1647 - val_accuracy: 0.5768 - lr: 1.0000e-04\n",
            "Epoch 15/100\n",
            "845/845 [==============================] - ETA: 0s - loss: 1.0800 - accuracy: 0.6076\n",
            "Epoch 15: val_loss did not improve from 1.03605\n",
            "845/845 [==============================] - 207s 245ms/step - loss: 1.0800 - accuracy: 0.6076 - val_loss: 1.0428 - val_accuracy: 0.6315 - lr: 1.0000e-04\n",
            "Epoch 16/100\n",
            "845/845 [==============================] - 209s 247ms/step - loss: 1.0636 - accuracy: 0.6156 - val_loss: 0.9815 - val_accuracy: 0.6389 - lr: 1.0000e-04\n",
            "Epoch 17/100\n",
            "845/845 [==============================] - 208s 246ms/step - loss: 1.0416 - accuracy: 0.6230 - val_loss: 1.0109 - val_accuracy: 0.6336 - lr: 1.0000e-04\n",
            "Epoch 18/100\n",
            "845/845 [==============================] - 209s 248ms/step - loss: 1.0258 - accuracy: 0.6308 - val_loss: 0.9914 - val_accuracy: 0.6418 - lr: 1.0000e-04\n",
            "Epoch 19/100\n",
            "845/845 [==============================] - 208s 246ms/step - loss: 1.0739 - accuracy: 0.6162 - val_loss: 1.1026 - val_accuracy: 0.6291 - lr: 1.0000e-04\n",
            "Epoch 20/100\n",
            "845/845 [==============================] - ETA: 0s - loss: 1.0150 - accuracy: 0.6329\n",
            "Epoch 20: val_loss improved from 1.03605 to 0.98771, saving model to ./checkpoints\n",
            "845/845 [==============================] - 211s 249ms/step - loss: 1.0150 - accuracy: 0.6329 - val_loss: 0.9877 - val_accuracy: 0.6470 - lr: 1.0000e-04\n",
            "Epoch 21/100\n",
            "845/845 [==============================] - 208s 246ms/step - loss: 0.9893 - accuracy: 0.6431 - val_loss: 0.9853 - val_accuracy: 0.6357 - lr: 1.0000e-04\n",
            "Epoch 22/100\n",
            "845/845 [==============================] - 208s 246ms/step - loss: 1.0120 - accuracy: 0.6371 - val_loss: 0.9394 - val_accuracy: 0.6558 - lr: 1.0000e-04\n",
            "Epoch 23/100\n",
            "845/845 [==============================] - 210s 249ms/step - loss: 0.9706 - accuracy: 0.6511 - val_loss: 0.9554 - val_accuracy: 0.6445 - lr: 1.0000e-04\n",
            "Epoch 24/100\n",
            "845/845 [==============================] - 209s 247ms/step - loss: 0.9518 - accuracy: 0.6579 - val_loss: 0.9726 - val_accuracy: 0.6463 - lr: 1.0000e-04\n",
            "Epoch 25/100\n",
            "845/845 [==============================] - ETA: 0s - loss: 0.9967 - accuracy: 0.6393\n",
            "Epoch 25: val_loss did not improve from 0.98771\n",
            "845/845 [==============================] - 208s 246ms/step - loss: 0.9967 - accuracy: 0.6393 - val_loss: 1.0430 - val_accuracy: 0.6268 - lr: 1.0000e-04\n",
            "Epoch 26/100\n",
            "845/845 [==============================] - 208s 246ms/step - loss: 0.9871 - accuracy: 0.6409 - val_loss: 1.2078 - val_accuracy: 0.5952 - lr: 1.0000e-04\n",
            "Epoch 27/100\n",
            "845/845 [==============================] - 208s 246ms/step - loss: 1.0294 - accuracy: 0.6260 - val_loss: 0.9497 - val_accuracy: 0.6415 - lr: 1.0000e-04\n",
            "Epoch 28/100\n",
            "845/845 [==============================] - ETA: 0s - loss: 0.9639 - accuracy: 0.6500\n",
            "Epoch 28: ReduceLROnPlateau reducing learning rate to 4.999999873689376e-05.\n",
            "845/845 [==============================] - 208s 246ms/step - loss: 0.9639 - accuracy: 0.6500 - val_loss: 0.9468 - val_accuracy: 0.6532 - lr: 1.0000e-04\n",
            "Epoch 29/100\n",
            "845/845 [==============================] - 209s 247ms/step - loss: 0.9161 - accuracy: 0.6695 - val_loss: 0.9332 - val_accuracy: 0.6555 - lr: 5.0000e-05\n",
            "Epoch 30/100\n",
            "845/845 [==============================] - ETA: 0s - loss: 0.8965 - accuracy: 0.6734\n",
            "Epoch 30: val_loss improved from 0.98771 to 0.96060, saving model to ./checkpoints\n",
            "845/845 [==============================] - 212s 251ms/step - loss: 0.8965 - accuracy: 0.6734 - val_loss: 0.9606 - val_accuracy: 0.6599 - lr: 5.0000e-05\n",
            "Epoch 31/100\n",
            "845/845 [==============================] - 209s 247ms/step - loss: 0.8838 - accuracy: 0.6811 - val_loss: 1.0947 - val_accuracy: 0.6446 - lr: 5.0000e-05\n",
            "Epoch 32/100\n",
            "845/845 [==============================] - 209s 247ms/step - loss: 0.8671 - accuracy: 0.6879 - val_loss: 0.9248 - val_accuracy: 0.6651 - lr: 5.0000e-05\n",
            "Epoch 33/100\n",
            "845/845 [==============================] - 208s 247ms/step - loss: 0.8476 - accuracy: 0.6940 - val_loss: 1.0852 - val_accuracy: 0.6293 - lr: 5.0000e-05\n",
            "Epoch 34/100\n",
            "845/845 [==============================] - 208s 246ms/step - loss: 0.8419 - accuracy: 0.6969 - val_loss: 1.0148 - val_accuracy: 0.6418 - lr: 5.0000e-05\n",
            "Epoch 35/100\n",
            "845/845 [==============================] - ETA: 0s - loss: 0.8176 - accuracy: 0.7079\n",
            "Epoch 35: val_loss improved from 0.96060 to 0.93410, saving model to ./checkpoints\n",
            "845/845 [==============================] - 213s 252ms/step - loss: 0.8176 - accuracy: 0.7079 - val_loss: 0.9341 - val_accuracy: 0.6728 - lr: 5.0000e-05\n",
            "Epoch 36/100\n",
            "845/845 [==============================] - 209s 247ms/step - loss: 0.8196 - accuracy: 0.7105 - val_loss: 0.9217 - val_accuracy: 0.6761 - lr: 5.0000e-05\n",
            "Epoch 37/100\n",
            "845/845 [==============================] - 208s 247ms/step - loss: 0.8070 - accuracy: 0.7119 - val_loss: 0.9382 - val_accuracy: 0.6740 - lr: 5.0000e-05\n",
            "Epoch 38/100\n",
            "845/845 [==============================] - 209s 247ms/step - loss: 0.7933 - accuracy: 0.7179 - val_loss: 0.9425 - val_accuracy: 0.6709 - lr: 5.0000e-05\n",
            "Epoch 39/100\n",
            "845/845 [==============================] - 209s 247ms/step - loss: 0.7836 - accuracy: 0.7210 - val_loss: 0.9431 - val_accuracy: 0.6739 - lr: 5.0000e-05\n",
            "Epoch 40/100\n",
            "845/845 [==============================] - ETA: 0s - loss: 0.7665 - accuracy: 0.7277\n",
            "Epoch 40: val_loss did not improve from 0.93410\n",
            "845/845 [==============================] - 208s 246ms/step - loss: 0.7665 - accuracy: 0.7277 - val_loss: 0.9502 - val_accuracy: 0.6686 - lr: 5.0000e-05\n",
            "Epoch 41/100\n",
            "845/845 [==============================] - 209s 248ms/step - loss: 0.7685 - accuracy: 0.7252 - val_loss: 0.9222 - val_accuracy: 0.6778 - lr: 5.0000e-05\n",
            "Epoch 42/100\n",
            "845/845 [==============================] - ETA: 0s - loss: 0.7552 - accuracy: 0.7290\n",
            "Epoch 42: ReduceLROnPlateau reducing learning rate to 2.499999936844688e-05.\n",
            "845/845 [==============================] - 209s 247ms/step - loss: 0.7552 - accuracy: 0.7290 - val_loss: 0.9413 - val_accuracy: 0.6796 - lr: 5.0000e-05\n",
            "Epoch 43/100\n",
            "845/845 [==============================] - 208s 246ms/step - loss: 0.7205 - accuracy: 0.7441 - val_loss: 0.9885 - val_accuracy: 0.6750 - lr: 2.5000e-05\n",
            "Epoch 44/100\n",
            "845/845 [==============================] - 208s 247ms/step - loss: 0.7146 - accuracy: 0.7455 - val_loss: 0.9546 - val_accuracy: 0.6826 - lr: 2.5000e-05\n",
            "Epoch 45/100\n",
            "845/845 [==============================] - ETA: 0s - loss: 0.6968 - accuracy: 0.7500\n",
            "Epoch 45: val_loss did not improve from 0.93410\n",
            "845/845 [==============================] - 208s 246ms/step - loss: 0.6968 - accuracy: 0.7500 - val_loss: 0.9796 - val_accuracy: 0.6712 - lr: 2.5000e-05\n",
            "Epoch 46/100\n",
            "845/845 [==============================] - 208s 246ms/step - loss: 0.6961 - accuracy: 0.7540 - val_loss: 1.0249 - val_accuracy: 0.6662 - lr: 2.5000e-05\n",
            "Epoch 47/100\n",
            "845/845 [==============================] - 209s 247ms/step - loss: 0.6920 - accuracy: 0.7537 - val_loss: 0.9965 - val_accuracy: 0.6746 - lr: 2.5000e-05\n",
            "Epoch 48/100\n",
            "845/845 [==============================] - ETA: 0s - loss: 0.6760 - accuracy: 0.7611\n",
            "Epoch 48: ReduceLROnPlateau reducing learning rate to 1.249999968422344e-05.\n",
            "845/845 [==============================] - 208s 246ms/step - loss: 0.6760 - accuracy: 0.7611 - val_loss: 0.9904 - val_accuracy: 0.6737 - lr: 2.5000e-05\n",
            "Epoch 49/100\n",
            "845/845 [==============================] - 209s 248ms/step - loss: 0.6495 - accuracy: 0.7654 - val_loss: 0.9836 - val_accuracy: 0.6822 - lr: 1.2500e-05\n",
            "Epoch 50/100\n",
            "845/845 [==============================] - ETA: 0s - loss: 0.6474 - accuracy: 0.7710\n",
            "Epoch 50: val_loss did not improve from 0.93410\n",
            "845/845 [==============================] - 209s 247ms/step - loss: 0.6474 - accuracy: 0.7710 - val_loss: 1.0712 - val_accuracy: 0.6715 - lr: 1.2500e-05\n",
            "Epoch 51/100\n",
            "845/845 [==============================] - ETA: 0s - loss: 0.6357 - accuracy: 0.7756Restoring model weights from the end of the best epoch: 36.\n",
            "845/845 [==============================] - 209s 247ms/step - loss: 0.6357 - accuracy: 0.7756 - val_loss: 1.1541 - val_accuracy: 0.6641 - lr: 1.2500e-05\n",
            "Epoch 51: early stopping\n"
          ]
        }
      ],
      "source": [
        "\n",
        "earlystop =tf.keras.callbacks.EarlyStopping(monitor='val_loss', \n",
        "                          min_delta=0, \n",
        "                          patience=15, \n",
        "                          verbose=1, \n",
        "                          restore_best_weights=True)\n",
        "                        \n",
        "reduce_lr = tf.keras.callbacks.ReduceLROnPlateau(monitor='val_loss', \n",
        "                              factor=0.5, \n",
        "                              patience=6, \n",
        "                              verbose=1, \n",
        "                              min_delta=0.0001)\n",
        "checkpoint=tf.keras.callbacks.ModelCheckpoint(\n",
        "     './checkpoints', \n",
        "    verbose=1, \n",
        "    save_weights_only=True,\n",
        "    save_best_only=True,\n",
        "    period=5\n",
        ")\n",
        "callback=[earlystop,reduce_lr,checkpoint]\n",
        "history = model.fit(train_generator, epochs=100 ,verbose=1, validation_data=val_generator,callbacks=callback)\n",
        "models.save_model(model,'./emotion_Classifi_ver.h5') "
      ]
    },
    {
      "cell_type": "markdown",
      "metadata": {
        "id": "8971e753"
      },
      "source": [
        "## Save Model"
      ]
    },
    {
      "cell_type": "code",
      "execution_count": null,
      "metadata": {
        "id": "92baa225"
      },
      "outputs": [],
      "source": [
        "models.save_model(model,'./emotion_Classifi_ver.h5') "
      ]
    },
    {
      "cell_type": "markdown",
      "metadata": {
        "id": "15cc637f"
      },
      "source": [
        "## Evaluate Model"
      ]
    },
    {
      "cell_type": "code",
      "execution_count": null,
      "metadata": {
        "id": "041cf254"
      },
      "outputs": [],
      "source": [
        "# Evaluate Model\n",
        "score = model.evaluate_generator(test_generator) \n",
        "print('Test loss: ', score[0])\n",
        "print('Test accuracy: ', score[1])"
      ]
    },
    {
      "cell_type": "markdown",
      "metadata": {
        "id": "3GMS_qZ5Y4el"
      },
      "source": [
        "## Show Training History"
      ]
    },
    {
      "cell_type": "code",
      "execution_count": null,
      "metadata": {
        "colab": {
          "background_save": true
        },
        "id": "qv4sNivRY4el",
        "outputId": "0b57b401-219e-4782-dbae-94d0f8ffc48d"
      },
      "outputs": [
        {
          "name": "stdout",
          "output_type": "stream",
          "text": [
            "dict_keys(['loss', 'accuracy', 'val_loss', 'val_accuracy', 'lr'])\n"
          ]
        },
        {
          "data": {
            "image/png": "[encoded data removed]",
            "text/plain": [
              "<Figure size 432x288 with 1 Axes>"
            ]
          },
          "metadata": {},
          "output_type": "display_data"
        },
        {
          "data": {
            "image/png": "[encoded data removed]",
            "text/plain": [
              "<Figure size 432x288 with 1 Axes>"
            ]
          },
          "metadata": {},
          "output_type": "display_data"
        }
      ],
      "source": [
        "# Show Train History\n",
        "keys=history.history.keys()\n",
        "print(keys)\n",
        "\n",
        "def show_train_history(hisData,train,test): \n",
        "    plt.plot(hisData.history[train])\n",
        "    plt.plot(hisData.history[test])\n",
        "    plt.title('Training History')\n",
        "    plt.ylabel(train)\n",
        "    plt.xlabel('Epoch')\n",
        "    plt.legend(['train', 'test'], loc='upper left')\n",
        "    plt.show()\n",
        "\n",
        "show_train_history(history, 'loss', 'val_loss')\n",
        "show_train_history(history, 'accuracy', 'val_accuracy')"
      ]
    },
    {
      "cell_type": "code",
      "execution_count": null,
      "metadata": {
        "colab": {
          "background_save": true
        },
        "id": "R4-lFdjgY4el"
      },
      "outputs": [],
      "source": [
        ""
      ]
    },
    {
      "cell_type": "code",
      "execution_count": null,
      "metadata": {
        "id": "vUc8drcgY4em"
      },
      "outputs": [],
      "source": [
        "\n",
        "    "
      ]
    },
    {
      "cell_type": "code",
      "execution_count": null,
      "metadata": {
        "id": "RSZrqj8nY4em"
      },
      "outputs": [],
      "source": [
        ""
      ]
    },
    {
      "cell_type": "code",
      "execution_count": null,
      "metadata": {
        "id": "co2N14QWY4en"
      },
      "outputs": [],
      "source": [
        ""
      ]
    },
    {
      "cell_type": "code",
      "execution_count": null,
      "metadata": {
        "id": "0mo2UKPBY4en"
      },
      "outputs": [],
      "source": [
        ""
      ]
    }
  ],
  "metadata": {
    "accelerator": "GPU",
    "colab": {
      "name": "Visual_FinalModel.ipynb",
      "provenance": []
    },
    "kernelspec": {
      "display_name": "Python 3",
      "language": "python",
      "name": "python3"
    },
    "language_info": {
      "codemirror_mode": {
        "name": "ipython",
        "version": 3
      },
      "file_extension": ".py",
      "mimetype": "text/x-python",
      "name": "python",
      "nbconvert_exporter": "python",
      "pygments_lexer": "ipython3",
      "version": "3.6.4"
    }
  },
  "nbformat": 4,
  "nbformat_minor": 0
}