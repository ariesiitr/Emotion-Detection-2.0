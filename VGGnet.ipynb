{
 "cells": [
  {
   "cell_type": "code",
   "execution_count": 1,
   "id": "e7367a77-c0e9-4cdf-b45a-8ff30e408b7d",
   "metadata": {},
   "outputs": [],
   "source": [
    "import numpy as np\n",
    "import pandas as pd\n",
    "import matplotlib.pyplot as plt\n",
    "import tensorflow as tf\n",
    "from tensorflow import keras\n",
    "from tensorflow.keras.applications import VGG16\n",
    "from tensorflow.keras.layers import Dense, Flatten, Dropout,BatchNormalization \n",
    "from tensorflow.keras.models import Sequential\n",
    "from tensorflow.keras.callbacks import ReduceLROnPlateau, ModelCheckpoint, EarlyStopping\n",
    "from tensorflow.keras.optimizers import Adam\n",
    "from tensorflow.keras.preprocessing.image import ImageDataGenerator\n",
    "\n"
   ]
  },
  {
   "cell_type": "code",
   "execution_count": 2,
   "id": "b7011e94-f4d6-4e39-904d-6b3aad8d9872",
   "metadata": {},
   "outputs": [],
   "source": [
    "\n",
    "data_dir='C:\\\\Users\\\\suriy\\\\OneDrive\\\\Desktop\\\\fer\\\\train'\n",
    "\n",
    "train_datagen = ImageDataGenerator(rescale = 1./255,\n",
    "                                   validation_split = 0.2,\n",
    "                                  \n",
    "        rotation_range=5,\n",
    "        width_shift_range=0.2,\n",
    "        height_shift_range=0.2,\n",
    "        shear_range=0.2,\n",
    "        #zoom_range=0.2,\n",
    "        horizontal_flip=True,\n",
    "        vertical_flip=True,\n",
    "        fill_mode='nearest')\n",
    "\n",
    "valid_datagen = ImageDataGenerator(rescale = 1./255,\n",
    "                                  validation_split = 0.2)\n"
   ]
  },
  {
   "cell_type": "code",
   "execution_count": 3,
   "id": "54f8e1a9-b4f2-480c-8cee-bc135e9a8c17",
   "metadata": {},
   "outputs": [
    {
     "name": "stdout",
     "output_type": "stream",
     "text": [
      "Found 22968 images belonging to 7 classes.\n",
      "Found 5741 images belonging to 7 classes.\n"
     ]
    }
   ],
   "source": [
    "\n",
    "\n",
    "train_dataset  = train_datagen.flow_from_directory(directory = data_dir,\n",
    "                                                   target_size = (48,48),\n",
    "                                                   class_mode = 'categorical',\n",
    "                                                   subset = 'training',\n",
    "                                                   batch_size = 64,\n",
    "                                                   color_mode='grayscale')\n",
    "valid_dataset = valid_datagen.flow_from_directory(directory = data_dir,\n",
    "                                                  target_size = (48,48),\n",
    "                                                  class_mode = 'categorical',\n",
    "                                                  subset = 'validation',\n",
    "                                                  batch_size = 64,\n",
    "                                                  color_mode='grayscale')\n"
   ]
  },
  {
   "cell_type": "code",
   "execution_count": 4,
   "id": "bcb752b9-1452-4e8d-b927-0ac9bd8143d7",
   "metadata": {},
   "outputs": [],
   "source": []
  },
  {
   "cell_type": "code",
   "execution_count": null,
   "id": "f96a4c3a-57f8-486f-95ec-9b579e0c5023",
   "metadata": {},
   "outputs": [],
   "source": []
  },
  {
   "cell_type": "code",
   "execution_count": 5,
   "id": "13b239dd-06fd-4b7f-93e1-82959486c145",
   "metadata": {},
   "outputs": [
    {
     "name": "stdout",
     "output_type": "stream",
     "text": [
      "Model: \"vgg16\"\n",
      "_________________________________________________________________\n",
      "Layer (type)                 Output Shape              Param #   \n",
      "=================================================================\n",
      "input_1 (InputLayer)         [(None, None, None, 3)]   0         \n",
      "_________________________________________________________________\n",
      "block1_conv1 (Conv2D)        (None, None, None, 64)    1792      \n",
      "_________________________________________________________________\n",
      "block1_conv2 (Conv2D)        (None, None, None, 64)    36928     \n",
      "_________________________________________________________________\n",
      "block1_pool (MaxPooling2D)   (None, None, None, 64)    0         \n",
      "_________________________________________________________________\n",
      "block2_conv1 (Conv2D)        (None, None, None, 128)   73856     \n",
      "_________________________________________________________________\n",
      "block2_conv2 (Conv2D)        (None, None, None, 128)   147584    \n",
      "_________________________________________________________________\n",
      "block2_pool (MaxPooling2D)   (None, None, None, 128)   0         \n",
      "_________________________________________________________________\n",
      "block3_conv1 (Conv2D)        (None, None, None, 256)   295168    \n",
      "_________________________________________________________________\n",
      "block3_conv2 (Conv2D)        (None, None, None, 256)   590080    \n",
      "_________________________________________________________________\n",
      "block3_conv3 (Conv2D)        (None, None, None, 256)   590080    \n",
      "_________________________________________________________________\n",
      "block3_pool (MaxPooling2D)   (None, None, None, 256)   0         \n",
      "_________________________________________________________________\n",
      "block4_conv1 (Conv2D)        (None, None, None, 512)   1180160   \n",
      "_________________________________________________________________\n",
      "block4_conv2 (Conv2D)        (None, None, None, 512)   2359808   \n",
      "_________________________________________________________________\n",
      "block4_conv3 (Conv2D)        (None, None, None, 512)   2359808   \n",
      "_________________________________________________________________\n",
      "block4_pool (MaxPooling2D)   (None, None, None, 512)   0         \n",
      "_________________________________________________________________\n",
      "block5_conv1 (Conv2D)        (None, None, None, 512)   2359808   \n",
      "_________________________________________________________________\n",
      "block5_conv2 (Conv2D)        (None, None, None, 512)   2359808   \n",
      "_________________________________________________________________\n",
      "block5_conv3 (Conv2D)        (None, None, None, 512)   2359808   \n",
      "_________________________________________________________________\n",
      "block5_pool (MaxPooling2D)   (None, None, None, 512)   0         \n",
      "=================================================================\n",
      "Total params: 14,714,688\n",
      "Trainable params: 14,714,688\n",
      "Non-trainable params: 0\n",
      "_________________________________________________________________\n",
      "None\n"
     ]
    }
   ],
   "source": [
    "vgg_model = VGG16(include_top=False, weights='imagenet')\n",
    "print(vgg_model.summary())"
   ]
  },
  {
   "cell_type": "code",
   "execution_count": 6,
   "id": "b9b7d554-f6f7-4c05-aa4e-4f12f05f4018",
   "metadata": {},
   "outputs": [
    {
     "name": "stdout",
     "output_type": "stream",
     "text": [
      "Model: \"vgg16\"\n",
      "_________________________________________________________________\n",
      "Layer (type)                 Output Shape              Param #   \n",
      "=================================================================\n",
      "input_1 (InputLayer)         [(None, 48, 48, 1)]       0         \n",
      "_________________________________________________________________\n",
      "block1_conv1 (Conv2D)        (None, 48, 48, 64)        640       \n",
      "_________________________________________________________________\n",
      "block1_conv2 (Conv2D)        (None, 48, 48, 64)        36928     \n",
      "_________________________________________________________________\n",
      "block1_pool (MaxPooling2D)   (None, 24, 24, 64)        0         \n",
      "_________________________________________________________________\n",
      "block2_conv1 (Conv2D)        (None, 24, 24, 128)       73856     \n",
      "_________________________________________________________________\n",
      "block2_conv2 (Conv2D)        (None, 24, 24, 128)       147584    \n",
      "_________________________________________________________________\n",
      "block2_pool (MaxPooling2D)   (None, 12, 12, 128)       0         \n",
      "_________________________________________________________________\n",
      "block3_conv1 (Conv2D)        (None, 12, 12, 256)       295168    \n",
      "_________________________________________________________________\n",
      "block3_conv2 (Conv2D)        (None, 12, 12, 256)       590080    \n",
      "_________________________________________________________________\n",
      "block3_conv3 (Conv2D)        (None, 12, 12, 256)       590080    \n",
      "_________________________________________________________________\n",
      "block3_pool (MaxPooling2D)   (None, 6, 6, 256)         0         \n",
      "_________________________________________________________________\n",
      "block4_conv1 (Conv2D)        (None, 6, 6, 512)         1180160   \n",
      "_________________________________________________________________\n",
      "block4_conv2 (Conv2D)        (None, 6, 6, 512)         2359808   \n",
      "_________________________________________________________________\n",
      "block4_conv3 (Conv2D)        (None, 6, 6, 512)         2359808   \n",
      "_________________________________________________________________\n",
      "block4_pool (MaxPooling2D)   (None, 3, 3, 512)         0         \n",
      "_________________________________________________________________\n",
      "block5_conv1 (Conv2D)        (None, 3, 3, 512)         2359808   \n",
      "_________________________________________________________________\n",
      "block5_conv2 (Conv2D)        (None, 3, 3, 512)         2359808   \n",
      "_________________________________________________________________\n",
      "block5_conv3 (Conv2D)        (None, 3, 3, 512)         2359808   \n",
      "_________________________________________________________________\n",
      "block5_pool (MaxPooling2D)   (None, 1, 1, 512)         0         \n",
      "=================================================================\n",
      "Total params: 14,713,536\n",
      "Trainable params: 14,713,536\n",
      "Non-trainable params: 0\n",
      "_________________________________________________________________\n",
      "None\n"
     ]
    }
   ],
   "source": [
    "from tensorflow.keras.models import Model\n",
    "\n",
    "#Get the dictionary of config for vgg16\n",
    "vgg_config = vgg_model.get_config()\n",
    "\n",
    "# Change the input shape to new desired shape\n",
    "h, w, c = 48, 48, 1\n",
    "vgg_config[\"layers\"][0][\"config\"][\"batch_input_shape\"] = (None, h, w, c)\n",
    "#Create new model with the updated configuration\n",
    "vgg_updated = Model.from_config(vgg_config)\n",
    "print(vgg_updated.summary())"
   ]
  },
  {
   "cell_type": "code",
   "execution_count": 7,
   "id": "4ce2aa0a-950a-408a-80ac-ba97eeb4c0cb",
   "metadata": {},
   "outputs": [
    {
     "name": "stdout",
     "output_type": "stream",
     "text": [
      "[[ 0.42947057  0.373467   -0.06136011]\n",
      " [ 0.27476987  0.03868078 -0.36722335]\n",
      " [-0.05746817 -0.26224968 -0.35009676]]\n",
      " \n",
      "[[ 0.55037946  0.44007453 -0.08138704]\n",
      " [ 0.34573907  0.04063221 -0.4535013 ]\n",
      " [-0.05863491 -0.33066967 -0.4850302 ]]\n",
      " \n",
      "[[ 0.4800154   0.4085474  -0.06514555]\n",
      " [ 0.31047726  0.05020237 -0.40338343]\n",
      " [-0.05087169 -0.2852275  -0.41851634]]\n"
     ]
    }
   ],
   "source": [
    "# Check Weights of first conv layer in the original model...\n",
    "orig_model_conv1_block1_wts = vgg_model.layers[1].get_weights()[0]\n",
    "\n",
    "print(orig_model_conv1_block1_wts[:,:,0,0])\n",
    "print(' ')\n",
    "print(orig_model_conv1_block1_wts[:,:,1,0])\n",
    "print(' ')\n",
    "print(orig_model_conv1_block1_wts[:,:,2,0])"
   ]
  },
  {
   "cell_type": "code",
   "execution_count": 8,
   "id": "372079e4-9f4c-4b37-bbea-3a7b30d5655e",
   "metadata": {},
   "outputs": [
    {
     "name": "stdout",
     "output_type": "stream",
     "text": [
      "[[-0.02031171 -0.09611569  0.07441065]\n",
      " [ 0.03286584  0.01689783 -0.00397398]\n",
      " [ 0.02323868 -0.0769002  -0.09419598]]\n"
     ]
    }
   ],
   "source": [
    "# Check Weights of first conv layer in the new model...\n",
    "new_model_conv1_block1_wts = vgg_updated.layers[1].get_weights()[0]\n",
    "print(new_model_conv1_block1_wts[:,:,0,0])\n",
    "#Notice the Random weights...."
   ]
  },
  {
   "cell_type": "code",
   "execution_count": 9,
   "id": "291c8b6b-e66b-4e22-b178-bcd0ba3bf077",
   "metadata": {},
   "outputs": [],
   "source": [
    "#Let us average weights for all RGB channels for the first convolutional layer\n",
    "#and assign it to the first conv layer in our new model. \n",
    "\n",
    "# Function that calculates average of weights along the channel axis  \n",
    "def avg_wts(weights):  \n",
    "  average_weights = np.mean(weights, axis=-2).reshape(weights[:,:,-1:,:].shape)  #Find mean along the channel axis (second to last axis)\n",
    "  return(average_weights)"
   ]
  },
  {
   "cell_type": "code",
   "execution_count": 10,
   "id": "5b789303-2ba2-4ca6-9a73-4f651027b2bd",
   "metadata": {},
   "outputs": [],
   "source": [
    "#Get the configuration for the updated model and extract layer names. \n",
    "#We will use these names to copy over weights from the original model. \n",
    "vgg_updated_config = vgg_updated.get_config()\n",
    "vgg_updated_layer_names = [vgg_updated_config['layers'][x]['name'] for x in range(len(vgg_updated_config['layers']))]\n"
   ]
  },
  {
   "cell_type": "code",
   "execution_count": 11,
   "id": "97b24117-fae7-4851-8ef6-7c29a309083b",
   "metadata": {},
   "outputs": [],
   "source": [
    "#Name of the first convolutional layer.\n",
    "#Remember that this is the only layer with new additional weights. All other layers\n",
    "#will have same weights as the original model. \n",
    "first_conv_name = vgg_updated_layer_names[1]"
   ]
  },
  {
   "cell_type": "code",
   "execution_count": 12,
   "id": "4e6bbaf5-d583-4525-bfdf-1b02b3899a70",
   "metadata": {},
   "outputs": [],
   "source": [
    "#Update weights for all layers. And for the first conv layer replace weights with average of all 3 channels. \n",
    "for layer in vgg_model.layers:\n",
    "    if layer.name in vgg_updated_layer_names:\n",
    "     \n",
    "      if layer.get_weights() != []:  #All convolutional layers and layers with weights (no input layer or any pool layers)\n",
    "        target_layer = vgg_updated.get_layer(layer.name)\n",
    "    \n",
    "        if layer.name in first_conv_name:    #For the first convolutionl layer\n",
    "          weights = layer.get_weights()[0]\n",
    "          biases  = layer.get_weights()[1]\n",
    "          \n",
    "          weights_single_channel = avg_wts(weights)\n",
    "                                                    \n",
    "          target_layer.set_weights([weights_single_channel, biases])  #Now set weights for the first conv. layer\n",
    "          target_layer.trainable = False   #You can make this trainable if you want. \n",
    "    \n",
    "        else:\n",
    "          target_layer.set_weights(layer.get_weights())   #Set weights to all other layers. \n",
    "          target_layer.trainable = False  #You can make this trainable if you want."
   ]
  },
  {
   "cell_type": "code",
   "execution_count": 13,
   "id": "df7b3b36-c7e6-4c07-a526-6e0be06ee270",
   "metadata": {},
   "outputs": [
    {
     "name": "stdout",
     "output_type": "stream",
     "text": [
      "[[ 0.48662183  0.40736297 -0.06929757]\n",
      " [ 0.31032872  0.04317178 -0.40803602]\n",
      " [-0.05565825 -0.29271564 -0.4178811 ]]\n"
     ]
    }
   ],
   "source": [
    "# Check Weights of first conv layer in the new model...\n",
    "#Compare against the original model weights\n",
    "new_model_conv1_block1_wts_updated = vgg_updated.layers[1].get_weights()[0]\n",
    "print(new_model_conv1_block1_wts_updated[:,:,0,0])\n"
   ]
  },
  {
   "cell_type": "code",
   "execution_count": 14,
   "id": "c76d9335-e80f-49f4-b446-5c8abcbf5bab",
   "metadata": {},
   "outputs": [
    {
     "name": "stdout",
     "output_type": "stream",
     "text": [
      "Model: \"vgg16\"\n",
      "_________________________________________________________________\n",
      "Layer (type)                 Output Shape              Param #   \n",
      "=================================================================\n",
      "input_1 (InputLayer)         [(None, 48, 48, 1)]       0         \n",
      "_________________________________________________________________\n",
      "block1_conv1 (Conv2D)        (None, 48, 48, 64)        640       \n",
      "_________________________________________________________________\n",
      "block1_conv2 (Conv2D)        (None, 48, 48, 64)        36928     \n",
      "_________________________________________________________________\n",
      "block1_pool (MaxPooling2D)   (None, 24, 24, 64)        0         \n",
      "_________________________________________________________________\n",
      "block2_conv1 (Conv2D)        (None, 24, 24, 128)       73856     \n",
      "_________________________________________________________________\n",
      "block2_conv2 (Conv2D)        (None, 24, 24, 128)       147584    \n",
      "_________________________________________________________________\n",
      "block2_pool (MaxPooling2D)   (None, 12, 12, 128)       0         \n",
      "_________________________________________________________________\n",
      "block3_conv1 (Conv2D)        (None, 12, 12, 256)       295168    \n",
      "_________________________________________________________________\n",
      "block3_conv2 (Conv2D)        (None, 12, 12, 256)       590080    \n",
      "_________________________________________________________________\n",
      "block3_conv3 (Conv2D)        (None, 12, 12, 256)       590080    \n",
      "_________________________________________________________________\n",
      "block3_pool (MaxPooling2D)   (None, 6, 6, 256)         0         \n",
      "_________________________________________________________________\n",
      "block4_conv1 (Conv2D)        (None, 6, 6, 512)         1180160   \n",
      "_________________________________________________________________\n",
      "block4_conv2 (Conv2D)        (None, 6, 6, 512)         2359808   \n",
      "_________________________________________________________________\n",
      "block4_conv3 (Conv2D)        (None, 6, 6, 512)         2359808   \n",
      "_________________________________________________________________\n",
      "block4_pool (MaxPooling2D)   (None, 3, 3, 512)         0         \n",
      "_________________________________________________________________\n",
      "block5_conv1 (Conv2D)        (None, 3, 3, 512)         2359808   \n",
      "_________________________________________________________________\n",
      "block5_conv2 (Conv2D)        (None, 3, 3, 512)         2359808   \n",
      "_________________________________________________________________\n",
      "block5_conv3 (Conv2D)        (None, 3, 3, 512)         2359808   \n",
      "_________________________________________________________________\n",
      "block5_pool (MaxPooling2D)   (None, 1, 1, 512)         0         \n",
      "=================================================================\n",
      "Total params: 14,713,536\n",
      "Trainable params: 0\n",
      "Non-trainable params: 14,713,536\n",
      "_________________________________________________________________\n"
     ]
    }
   ],
   "source": [
    "vgg_updated.summary()"
   ]
  },
  {
   "cell_type": "code",
   "execution_count": 15,
   "id": "6b71d1d2-f05e-49b4-a64e-cf377bb59986",
   "metadata": {},
   "outputs": [],
   "source": [
    "model=Sequential()\n",
    "\n",
    "for layer in vgg_updated.layers:\n",
    "        layer.trainable=False\n",
    "\n",
    "model.add(vgg_updated)\n",
    "model.add(Flatten())\n",
    "model.add(Dense(512, activation='relu'))\n",
    "model.add(Dropout(0.5))\n",
    "model.add(Flatten())\n",
    "model.add(BatchNormalization())\n",
    "model.add(Dense(32,kernel_initializer='he_uniform',activation='relu'))\n",
    "model.add(BatchNormalization())\n",
    "model.add(Dropout(0.5))\n",
    "model.add(Dense(32,kernel_initializer='he_uniform',activation='relu'))\n",
    "model.add(BatchNormalization())\n",
    "model.add(Dropout(0.5))\n",
    "model.add(Dense(32,kernel_initializer='he_uniform',activation='relu'))\n",
    "model.add(BatchNormalization())\n",
    "model.add(Dense(7, activation='softmax'))"
   ]
  },
  {
   "cell_type": "code",
   "execution_count": 16,
   "id": "a779b23b-95c0-4826-8895-95486046658a",
   "metadata": {},
   "outputs": [
    {
     "name": "stdout",
     "output_type": "stream",
     "text": [
      "Model: \"sequential\"\n",
      "_________________________________________________________________\n",
      "Layer (type)                 Output Shape              Param #   \n",
      "=================================================================\n",
      "vgg16 (Functional)           (None, 1, 1, 512)         14713536  \n",
      "_________________________________________________________________\n",
      "flatten (Flatten)            (None, 512)               0         \n",
      "_________________________________________________________________\n",
      "dense (Dense)                (None, 512)               262656    \n",
      "_________________________________________________________________\n",
      "dropout (Dropout)            (None, 512)               0         \n",
      "_________________________________________________________________\n",
      "flatten_1 (Flatten)          (None, 512)               0         \n",
      "_________________________________________________________________\n",
      "batch_normalization (BatchNo (None, 512)               2048      \n",
      "_________________________________________________________________\n",
      "dense_1 (Dense)              (None, 32)                16416     \n",
      "_________________________________________________________________\n",
      "batch_normalization_1 (Batch (None, 32)                128       \n",
      "_________________________________________________________________\n",
      "dropout_1 (Dropout)          (None, 32)                0         \n",
      "_________________________________________________________________\n",
      "dense_2 (Dense)              (None, 32)                1056      \n",
      "_________________________________________________________________\n",
      "batch_normalization_2 (Batch (None, 32)                128       \n",
      "_________________________________________________________________\n",
      "dropout_2 (Dropout)          (None, 32)                0         \n",
      "_________________________________________________________________\n",
      "dense_3 (Dense)              (None, 32)                1056      \n",
      "_________________________________________________________________\n",
      "batch_normalization_3 (Batch (None, 32)                128       \n",
      "_________________________________________________________________\n",
      "dense_4 (Dense)              (None, 7)                 231       \n",
      "=================================================================\n",
      "Total params: 14,997,383\n",
      "Trainable params: 282,631\n",
      "Non-trainable params: 14,714,752\n",
      "_________________________________________________________________\n"
     ]
    }
   ],
   "source": [
    "model.summary()"
   ]
  },
  {
   "cell_type": "code",
   "execution_count": 17,
   "id": "809a306e-9f24-4af1-a690-9ba4f2c4a09b",
   "metadata": {},
   "outputs": [],
   "source": [
    "model.compile(optimizer=Adam(learning_rate=0.001),loss='categorical_crossentropy',metrics=['accuracy'])\n"
   ]
  },
  {
   "cell_type": "code",
   "execution_count": null,
   "id": "a6151efc-88e8-4197-8c4e-1c5abcf6716c",
   "metadata": {},
   "outputs": [
    {
     "name": "stdout",
     "output_type": "stream",
     "text": [
      "Epoch 1/50\n",
      "359/359 - 297s - loss: 2.0526 - accuracy: 0.1949 - val_loss: 1.8073 - val_accuracy: 0.2639\n",
      "Epoch 2/50\n",
      "359/359 - 287s - loss: 1.8408 - accuracy: 0.2392 - val_loss: 1.7737 - val_accuracy: 0.2695\n",
      "Epoch 3/50\n",
      "359/359 - 279s - loss: 1.8099 - accuracy: 0.2471 - val_loss: 1.7587 - val_accuracy: 0.2707\n",
      "Epoch 4/50\n",
      "359/359 - 296s - loss: 1.7929 - accuracy: 0.2594 - val_loss: 1.7514 - val_accuracy: 0.2747\n",
      "Epoch 5/50\n",
      "359/359 - 286s - loss: 1.7856 - accuracy: 0.2621 - val_loss: 1.7402 - val_accuracy: 0.2770\n",
      "Epoch 6/50\n",
      "359/359 - 290s - loss: 1.7768 - accuracy: 0.2698 - val_loss: 1.7318 - val_accuracy: 0.2851\n",
      "Epoch 7/50\n",
      "359/359 - 295s - loss: 1.7705 - accuracy: 0.2693 - val_loss: 1.7290 - val_accuracy: 0.2904\n",
      "Epoch 8/50\n"
     ]
    }
   ],
   "source": [
    "history = model.fit(train_dataset, validation_data=valid_dataset, epochs=50,verbose=2)"
   ]
  },
  {
   "cell_type": "code",
   "execution_count": null,
   "id": "b1df49ac-b54e-4e43-a8f1-2439fcc2773a",
   "metadata": {},
   "outputs": [],
   "source": []
  },
  {
   "cell_type": "code",
   "execution_count": null,
   "id": "e5fa321a-7bd3-4aad-b70a-d77f667c662f",
   "metadata": {},
   "outputs": [],
   "source": []
  },
  {
   "cell_type": "code",
   "execution_count": null,
   "id": "1c5dbbc7-a0f3-4759-945b-a6a530852697",
   "metadata": {},
   "outputs": [],
   "source": []
  },
  {
   "cell_type": "code",
   "execution_count": null,
   "id": "edcdcf57-48fc-4d07-871e-a7e29a8c7770",
   "metadata": {},
   "outputs": [],
   "source": []
  }
 ],
 "metadata": {
  "kernelspec": {
   "display_name": "Python 3",
   "language": "python",
   "name": "python3"
  },
  "language_info": {
   "codemirror_mode": {
    "name": "ipython",
    "version": 3
   },
   "file_extension": ".py",
   "mimetype": "text/x-python",
   "name": "python",
   "nbconvert_exporter": "python",
   "pygments_lexer": "ipython3",
   "version": "3.8.8"
  }
 },
 "nbformat": 4,
 "nbformat_minor": 5
}
